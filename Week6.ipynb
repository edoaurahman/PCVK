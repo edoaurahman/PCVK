{
  "nbformat": 4,
  "nbformat_minor": 0,
  "metadata": {
    "colab": {
      "provenance": [],
      "authorship_tag": "ABX9TyNTp3ydyIEHjGBu2HRjHuge",
      "include_colab_link": true
    },
    "kernelspec": {
      "name": "python3",
      "display_name": "Python 3"
    },
    "language_info": {
      "name": "python"
    }
  },
  "cells": [
    {
      "cell_type": "markdown",
      "metadata": {
        "id": "view-in-github",
        "colab_type": "text"
      },
      "source": [
        "<a href=\"https://colab.research.google.com/github/edoaurahman/PCVK/blob/main/Week6.ipynb\" target=\"_parent\"><img src=\"https://colab.research.google.com/assets/colab-badge.svg\" alt=\"Open In Colab\"/></a>"
      ]
    },
    {
      "cell_type": "markdown",
      "source": [
        "# Tugas Praktikum\n",
        "\n",
        "1. Import folder yang ada di Drive"
      ],
      "metadata": {
        "id": "S9QdgchG514U"
      }
    },
    {
      "cell_type": "code",
      "execution_count": 2,
      "metadata": {
        "id": "xBPUGSw32BVJ",
        "outputId": "58ca0fc8-2f8c-4dc0-e7e8-cdcc79aaec89",
        "colab": {
          "base_uri": "https://localhost:8080/"
        }
      },
      "outputs": [
        {
          "output_type": "stream",
          "name": "stdout",
          "text": [
            "Mounted at /content/drive\n"
          ]
        }
      ],
      "source": [
        "from google.colab import drive\n",
        "\n",
        "drive.mount('/content/drive')"
      ]
    },
    {
      "cell_type": "markdown",
      "source": [
        "2. Import Library"
      ],
      "metadata": {
        "id": "NtEGDCWS6HOP"
      }
    },
    {
      "cell_type": "code",
      "source": [
        "import cv2 as cv\n",
        "from google.colab.patches import cv2_imshow\n",
        "from skimage import io\n",
        "import matplotlib.pyplot as plt\n",
        "import numpy as np\n",
        "import math\n",
        "import os\n",
        "import glob"
      ],
      "metadata": {
        "id": "Z-Wr8E0N58eo"
      },
      "execution_count": null,
      "outputs": []
    },
    {
      "cell_type": "markdown",
      "source": [
        "3. Buatlah histogram citra seperti output histogram berikut berdasarkan flowchart di\n",
        "bawah ini : (Gunakan gambar lena.jpg)"
      ],
      "metadata": {
        "id": "JzEtni886aZO"
      }
    },
    {
      "cell_type": "code",
      "source": [],
      "metadata": {
        "id": "kHqH8jiR6ZL6"
      },
      "execution_count": null,
      "outputs": []
    },
    {
      "cell_type": "markdown",
      "source": [
        "4. Setelah mengerjakan soal no. 3, buatlah histogram citra yang sama akan tetapi\n",
        "menggunakan library yang dimiliki oleh NumPy yaitu “histogram”. Bandingkan\n",
        "hasilnya. Apakah output muncul sama?"
      ],
      "metadata": {
        "id": "HSS2kv677HID"
      }
    },
    {
      "cell_type": "code",
      "source": [],
      "metadata": {
        "id": "gQIarRME7RAU"
      },
      "execution_count": null,
      "outputs": []
    },
    {
      "cell_type": "markdown",
      "source": [
        "5. Buatlah histogram citra seperti output histogram equalization dan juga tampilan\n",
        "gambar sebelum dan sesudah proses histogram equalization berikut berdasarkan\n",
        "flowchart di bawah ini : (Gunakan gambar lena_lc.jpg)"
      ],
      "metadata": {
        "id": "qIRAgkZ07RfQ"
      }
    },
    {
      "cell_type": "code",
      "source": [],
      "metadata": {
        "id": "M2pZ0PGJ7czz"
      },
      "execution_count": null,
      "outputs": []
    },
    {
      "cell_type": "markdown",
      "source": [
        "6. Setelah mengerjakan soal no. 5, buatlah histogram citra yang sama akan tetapi\n",
        "menggunakan library yang dimiliki oleh CV2 yaitu “equalizeHist”. Bandingkan\n",
        "hasilnya. Apakah output muncul sama?"
      ],
      "metadata": {
        "id": "8PCNZlTJ7dO5"
      }
    },
    {
      "cell_type": "code",
      "source": [],
      "metadata": {
        "id": "p0KQ1eTV7gt0"
      },
      "execution_count": null,
      "outputs": []
    },
    {
      "cell_type": "markdown",
      "source": [
        "7. Lakukanlah proses pemetaan 16 juta warna RGB ke dalam 8 warna saja, yaitu hitam,\n",
        "hijau, kuning, biru, cyan, magenta, putih seperti output berikut berdasarkan flowchart\n",
        "di bawah ini! (Gunakan gambar lena.jpg)"
      ],
      "metadata": {
        "id": "2rOoVTKz7g_o"
      }
    },
    {
      "cell_type": "code",
      "source": [],
      "metadata": {
        "id": "CXlQjDQT7kHL"
      },
      "execution_count": null,
      "outputs": []
    },
    {
      "cell_type": "markdown",
      "source": [
        "8. Lakukanlah proses dithering Floyd and Steinberg seperti output berikut (tampilan image\n",
        "awal, dan tampilan setelah dithering) berdasarkan flowchart di bagian bawah halaman\n",
        "modul ini! (Gunakan gambar lena.jpg)"
      ],
      "metadata": {
        "id": "CQBf3M7H7kib"
      }
    },
    {
      "cell_type": "code",
      "source": [],
      "metadata": {
        "id": "i3f-PEHV8F9P"
      },
      "execution_count": null,
      "outputs": []
    },
    {
      "cell_type": "markdown",
      "source": [
        "9. Menggunakan lena_lc.jpg rubah menjadi grey image, kemudian terapkan histogram\n",
        "equalization sehingga terjadi perbaikan sebaran warna pada citra. Setelah itu dari hasil\n",
        "histogram equalization implementasikan proses dithering Floyd and Steinberg sehingga\n",
        "menampilkan gambar di bawah ini!"
      ],
      "metadata": {
        "id": "t_rkYeI68Ger"
      }
    },
    {
      "cell_type": "code",
      "source": [],
      "metadata": {
        "id": "MYPQ6OR18S4A"
      },
      "execution_count": null,
      "outputs": []
    }
  ]
}