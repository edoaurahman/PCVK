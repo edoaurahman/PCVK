{
  "nbformat": 4,
  "nbformat_minor": 0,
  "metadata": {
    "colab": {
      "provenance": [],
      "authorship_tag": "ABX9TyPLi+SjA+ymddqeNYMAeA4d",
      "include_colab_link": true
    },
    "kernelspec": {
      "name": "python3",
      "display_name": "Python 3"
    },
    "language_info": {
      "name": "python"
    }
  },
  "cells": [
    {
      "cell_type": "markdown",
      "metadata": {
        "id": "view-in-github",
        "colab_type": "text"
      },
      "source": [
        "<a href=\"https://colab.research.google.com/github/edoaurahman/PCVK/blob/main/Week9.ipynb\" target=\"_parent\"><img src=\"https://colab.research.google.com/assets/colab-badge.svg\" alt=\"Open In Colab\"/></a>"
      ]
    },
    {
      "cell_type": "markdown",
      "source": [
        "# Tugas Praktikum"
      ],
      "metadata": {
        "id": "cHbyUIt4q5P4"
      }
    },
    {
      "cell_type": "code",
      "execution_count": 2,
      "metadata": {
        "id": "_QAvjPVRqHof",
        "colab": {
          "base_uri": "https://localhost:8080/"
        },
        "outputId": "61d0d783-c96e-4f14-d237-8456a405e07f"
      },
      "outputs": [
        {
          "output_type": "stream",
          "name": "stdout",
          "text": [
            "Mounted at /content/drive\n"
          ]
        }
      ],
      "source": [
        "from google.colab import drive\n",
        "drive.mount('/content/drive')"
      ]
    },
    {
      "cell_type": "markdown",
      "source": [
        "# import library"
      ],
      "metadata": {
        "id": "53PIYgjvsB9p"
      }
    },
    {
      "cell_type": "code",
      "source": [
        "import cv2\n",
        "import numpy as np\n",
        "from matplotlib import pyplot as plt"
      ],
      "metadata": {
        "id": "xpiWsSUcr-0R"
      },
      "execution_count": 3,
      "outputs": []
    },
    {
      "cell_type": "markdown",
      "source": [
        "3. Buatlah fungsi dilasi serta tampilkan hasil dilasi pada citra dengan Structuring Element Dilasi (SED) berbentuk cross 3 x 3 tanpa menggunakan library morphology dari openCV, sehingga menghasilkan tampilan seperti di bawah ini:"
      ],
      "metadata": {
        "id": "Vx10rpZPsHFL"
      }
    },
    {
      "cell_type": "code",
      "source": [
        "#Dilasi tanpa library\n",
        "def dilasi_citra(F,w):\n",
        "  #size image\n",
        "  p,q= F.shape\n",
        "  imgD= np.zeros((p,q), dtype=np.uint8)\n",
        "  #Generate structure element dilasi (SED)\n",
        "  SED= np.ones((w,w), dtype=np.uint8)\n",
        "  constant1= (w-1)//2\n",
        "\n",
        "  #Proses Dilasi\n",
        "  for i in range(constant1, p-constant1):\n",
        "    for j in range(constant1,q-constant1):\n",
        "      temp= F[i-constant1:i+constant1+1, j-constant1:j+constant1+1]\n",
        "      product= temp*SED\n",
        "      imgD[i,j]= np.max(product)\n",
        "  return imgD\n",
        "\n",
        "img_d= cv2.imread('/content/drive/MyDrive/PCVK_MM/Images/plat_nomer.jpg',0)\n",
        "ret, thresh = cv2.threshold(img_d, 125, 200, cv2.THRESH_BINARY)\n",
        "w=9\n",
        "imgD = dilasi_citra(thresh,w)\n",
        "\n",
        "plt.subplot(131),plt.imshow(img_d,cmap = 'gray')\n",
        "plt.title('Citra Awal'), plt.xticks([]), plt.yticks([])\n",
        "plt.subplot(132),plt.imshow(imgD,cmap = 'gray')\n",
        "plt.title('Citra Hasil Dilasi'), plt.xticks([]), plt.yticks([])\n",
        "plt.show()"
      ],
      "metadata": {
        "colab": {
          "base_uri": "https://localhost:8080/",
          "height": 115
        },
        "id": "goOnv2xEsWnu",
        "outputId": "d12f4e23-e08a-4260-dcb8-91db9e8dc10e"
      },
      "execution_count": 40,
      "outputs": [
        {
          "output_type": "display_data",
          "data": {
            "text/plain": [
              "<Figure size 640x480 with 2 Axes>"
            ],
            "image/png": "[encoded data removed]"
          },
          "metadata": {}
        }
      ]
    }
  ]
}