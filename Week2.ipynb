{
  "nbformat": 4,
  "nbformat_minor": 0,
  "metadata": {
    "colab": {
      "provenance": [],
      "authorship_tag": "ABX9TyNeHbUyIrL2ewnyruHbj672",
      "include_colab_link": true
    },
    "kernelspec": {
      "name": "python3",
      "display_name": "Python 3"
    },
    "language_info": {
      "name": "python"
    }
  },
  "cells": [
    {
      "cell_type": "markdown",
      "metadata": {
        "id": "view-in-github",
        "colab_type": "text"
      },
      "source": [
        "<a href=\"https://colab.research.google.com/github/edoaurahman/PCVK/blob/main/Week2.ipynb\" target=\"_parent\"><img src=\"https://colab.research.google.com/assets/colab-badge.svg\" alt=\"Open In Colab\"/></a>"
      ]
    },
    {
      "cell_type": "markdown",
      "source": [
        "1. Menghubungkan ke Google Drive"
      ],
      "metadata": {
        "id": "xnQ6bVylb5YW"
      }
    },
    {
      "cell_type": "code",
      "execution_count": null,
      "metadata": {
        "id": "63UTtKFtZV21"
      },
      "outputs": [],
      "source": [
        "from google.colab import drive\n",
        "\n",
        "# Accessing My Google Drive\n",
        "drive.mount('/content/drive')"
      ]
    },
    {
      "cell_type": "markdown",
      "source": [
        "2. Menampilkan Gambar dari Drive"
      ],
      "metadata": {
        "id": "P6VCsYqacFUg"
      }
    },
    {
      "cell_type": "code",
      "source": [
        "import cv2 as cv\n",
        "from google.colab.patches import cv2_imshow\n",
        "from skimage import io\n",
        "import matplotlib.pyplot as plt\n",
        "import numpy as np\n",
        "\n",
        "img = cv.imread(\"/content/drive/MyDrive/PCVK_MM/Images/kitten01.jpg\")\n",
        "plt.imshow(img)"
      ],
      "metadata": {
        "id": "JCGvYzcEbAze"
      },
      "execution_count": null,
      "outputs": []
    },
    {
      "cell_type": "markdown",
      "source": [
        "Menampilkan gambar dalam format warna RGB"
      ],
      "metadata": {
        "id": "K6hrxrNfcOAu"
      }
    },
    {
      "cell_type": "code",
      "source": [
        "img2 = img\n",
        "img3 = cv.cvtColor(img, cv.COLOR_BGR2RGB)\n",
        "plt.imshow(img3)"
      ],
      "metadata": {
        "id": "ouPRCE9nbia7"
      },
      "execution_count": null,
      "outputs": []
    },
    {
      "cell_type": "markdown",
      "source": [
        "3. Menampilkan citra Grayscale, melakukan resizing, melakukan Flipping, Menyimpan citra hasil"
      ],
      "metadata": {
        "id": "N5A0ZUgKcSxX"
      }
    },
    {
      "cell_type": "code",
      "source": [
        "img_gray = cv.imread(\"/content/drive/MyDrive/PCVK_MM/Images/kitten01.jpg\", cv.IMREAD_GRAYSCALE)\n",
        "plt.imshow(img_gray)"
      ],
      "metadata": {
        "id": "OVjXd5rCcbrd"
      },
      "execution_count": null,
      "outputs": []
    },
    {
      "cell_type": "markdown",
      "source": [
        "Dari citra grayscale, selanjutnya dipilih untuk ditampilkan colormap dengan warna 'gray'"
      ],
      "metadata": {
        "id": "R3lKdN0jcsB8"
      }
    },
    {
      "cell_type": "code",
      "source": [
        "plt.imshow(img_gray, cmap='gray')"
      ],
      "metadata": {
        "id": "OnLcQIbPczIk"
      },
      "execution_count": null,
      "outputs": []
    },
    {
      "cell_type": "markdown",
      "source": [
        "Dari citra grayscale, selanjutnya dipilih untuk ditampilkan colormap dengan warna 'magma'"
      ],
      "metadata": {
        "id": "0Rnv1IU5c6Ja"
      }
    },
    {
      "cell_type": "code",
      "source": [
        "plt.imshow(img_gray, cmap='magma')"
      ],
      "metadata": {
        "id": "dSwkspr_dCVO"
      },
      "execution_count": null,
      "outputs": []
    },
    {
      "cell_type": "markdown",
      "source": [
        "Citra RGB di resize dalam ukuran panjang 512 dan lebar 1024"
      ],
      "metadata": {
        "id": "kT-tW2pqdIYl"
      }
    },
    {
      "cell_type": "code",
      "source": [
        "img4 = cv.resize(cv.cvtColor(img,cv.COLOR_BGR2RGB), (512,1024))\n",
        "plt.imshow(img4)"
      ],
      "metadata": {
        "id": "4WelwtSPd8qe"
      },
      "execution_count": null,
      "outputs": []
    },
    {
      "cell_type": "markdown",
      "source": [
        "Citra RGB ditampilkan dalam ukuran yang lebih besar dengan posisi gambar terbalik"
      ],
      "metadata": {
        "id": "KtP0z_ETeVzp"
      }
    },
    {
      "cell_type": "code",
      "source": [
        "img5 = cv.flip(cv.cvtColor(img, cv.COLOR_BGR2RGB), 0)\n",
        "\n",
        "# simpan File image\n",
        "# cv.imwrite(\"/content/drive/MyDrive/PCVK_MM/Images/mandrill2.tiff\", img5)\n",
        "\n",
        "# tampilkan plot dengan ukuran canvas yang lebih besar\n",
        "fig = plt.figure(figsize=(10,10))\n",
        "ax = fig.add_subplot(111)\n",
        "ax.imshow(img5)"
      ],
      "metadata": {
        "id": "UlOAE8Q8dM0s"
      },
      "execution_count": null,
      "outputs": []
    },
    {
      "cell_type": "markdown",
      "source": [
        "4. Membuat bentuk Geometri 2D dari OpenCV. Diawali dengan pembuatan black image dengan tipe data int16."
      ],
      "metadata": {
        "id": "QnRmOfguec__"
      }
    },
    {
      "cell_type": "code",
      "source": [
        "black_img = np.zeros((512,512,3), dtype=np.int16)\n",
        "plt.imshow(black_img)"
      ],
      "metadata": {
        "id": "Kok7UOQcemCR"
      },
      "execution_count": null,
      "outputs": []
    },
    {
      "cell_type": "markdown",
      "source": [
        "Kemudian menambahkan bentuk persegi panjang sesuai koordinat pt1 dan pt2"
      ],
      "metadata": {
        "id": "503krn_ufZRJ"
      }
    },
    {
      "cell_type": "code",
      "source": [
        "# perhatikan koordinat titik pt1 dan pt2\n",
        "cv.rectangle(black_img, pt1=(384,0), pt2=(510,150), color=(0,255,0), thickness=10)\n",
        "plt.imshow(black_img)"
      ],
      "metadata": {
        "id": "m7V1T2PVfef_"
      },
      "execution_count": null,
      "outputs": []
    },
    {
      "cell_type": "markdown",
      "source": [
        "Selanjutnya ditambah menambahkan bentuk persegi sesuai koordinat pt1 dan pt2 yang tertulis pada kode program."
      ],
      "metadata": {
        "id": "TQzOD6tdgL32"
      }
    },
    {
      "cell_type": "code",
      "source": [
        "cv.rectangle(black_img, pt1=(200,200), pt2=(300,300), color=(0,0,255), thickness=10)\n",
        "plt.imshow(black_img)"
      ],
      "metadata": {
        "id": "Zgocs8r1gZmv"
      },
      "execution_count": null,
      "outputs": []
    },
    {
      "cell_type": "markdown",
      "source": [
        "Tahap selanjutnya ditambah menambahkan bentuk lingkaran sesuai radius yang tertulis pada kode program"
      ],
      "metadata": {
        "id": "-1oz2YczgmuY"
      }
    },
    {
      "cell_type": "code",
      "source": [
        "from textwrap import fill\n",
        "cv.circle(black_img, center=(100,100), radius=50, color=(255,0,0), thickness=10)\n",
        "\n",
        "cv.circle(black_img, center=(400,400), radius=50, color=(255,0,0), thickness=-1)\n",
        "\n",
        "plt.imshow(black_img)"
      ],
      "metadata": {
        "id": "sgQ_b3CLguFt"
      },
      "execution_count": null,
      "outputs": []
    },
    {
      "cell_type": "markdown",
      "source": [
        "Kemudian dilakukan penambahan garis sesuai koordinat pt1 dan pt2 sebagai berikut."
      ],
      "metadata": {
        "id": "UjXyKp03g0h7"
      }
    },
    {
      "cell_type": "code",
      "source": [
        "cv.line(black_img, pt1=(0,0), pt2=(512,512), color=(255,255,255), thickness=5)\n",
        "plt.imshow(black_img)"
      ],
      "metadata": {
        "id": "zmxGvhvwhCKN"
      },
      "execution_count": null,
      "outputs": []
    },
    {
      "cell_type": "markdown",
      "source": [
        "Penambahan text dengan font yang telah tertulis dengan ukuran yang sudah ditentukan"
      ],
      "metadata": {
        "id": "k4r7CR2iiL-P"
      }
    },
    {
      "cell_type": "code",
      "source": [
        "font = cv.FONT_HERSHEY_SIMPLEX\n",
        "cv.putText(black_img, text='Hello', org=(10,500), fontFace=font, fontScale=4, color=(255,255,0), thickness=2, lineType=cv.LINE_AA)\n",
        "plt.imshow(black_img)"
      ],
      "metadata": {
        "id": "uq9EaxxiiR0x"
      },
      "execution_count": null,
      "outputs": []
    },
    {
      "cell_type": "markdown",
      "source": [
        "Pembuatan black image kembali dilakukan dengan tipe data int32"
      ],
      "metadata": {
        "id": "rMj-PoowinnS"
      }
    },
    {
      "cell_type": "code",
      "source": [
        "black_img2 = np.zeros((512,512,3), dtype=np.int32)\n",
        "plt.imshow(black_img2)"
      ],
      "metadata": {
        "id": "M57VFM1sis-q"
      },
      "execution_count": null,
      "outputs": []
    },
    {
      "cell_type": "markdown",
      "source": [
        "inisialisasi NumPy array dengan tipe data int32"
      ],
      "metadata": {
        "id": "DtfvBWL5i7Ws"
      }
    },
    {
      "cell_type": "code",
      "source": [
        "vertices = np.array([[100,300],[200,200],[400,300],[400,300],[200,400]], dtype=np.int32)\n",
        "vertices\n"
      ],
      "metadata": {
        "id": "3lBCpAdmjRaz"
      },
      "execution_count": null,
      "outputs": []
    },
    {
      "cell_type": "markdown",
      "source": [
        "Array tersebut kemudian di reshape sebagai berikut"
      ],
      "metadata": {
        "id": "VOLQxHNrkAd3"
      }
    },
    {
      "cell_type": "code",
      "source": [
        "pts = vertices.reshape((-1,1,2)) # nilai 2 untuk menunjukan bahwa tiap titik dibuat 3 channel yg mewakili R,G, dan B\n",
        "pts"
      ],
      "metadata": {
        "id": "auCjOo6akFnD"
      },
      "execution_count": null,
      "outputs": []
    },
    {
      "cell_type": "markdown",
      "source": [
        "Penambahan polyline pada black image kedua yang telah dibuat"
      ],
      "metadata": {
        "id": "RlPNGtZZkgJp"
      }
    },
    {
      "cell_type": "code",
      "source": [
        "cv.polylines(black_img2, [pts], isClosed=True, color=(255,0,0), thickness=5)\n",
        "plt.imshow(black_img2)\n",
        "#"
      ],
      "metadata": {
        "id": "EJfO6f7PklNr"
      },
      "execution_count": null,
      "outputs": []
    },
    {
      "cell_type": "markdown",
      "source": [
        "**Pertanyaan**\n",
        "1. Apakah perbedaan gambar yang ditampilkan tanpa dan dengan matplotlib\n",
        "2. Apakah perbedaan dan pengaruhnya pembuatan black image antara tipe data int16 dan int32?\n",
        "3. Apakah kegunaan \"google.colab.parches import cv2_imshow\" pada potongan kode berikut\n",
        "```\n",
        "from google.colab.patches import cv2_imshow\n",
        "from skimage import io\n",
        "```\n",
        "4. Apakah kegunaan \"skimage import io\" pada potongan kode soal nomor 3"
      ],
      "metadata": {
        "id": "7HEXkU1Vk9OH"
      }
    },
    {
      "cell_type": "markdown",
      "source": [
        "**Jawab**\n",
        "1. Gambar yang ditampilkan dengan matplotlib akan memiliki fitur tambahan seperti axes, ticks, dan labels, yang berguna untuk visualisasi data dan analisis.\n",
        "\n",
        "  Gambar yang ditampilkan tanpa matplotlib, misalnya dengan cv2_imshow, hanya menampilkan gambar apa adanya.\n",
        "2. Perbedaan tipe data int16 dan int32 terletak pada rentang nilai yang dapat ditampung.\n",
        "\n",
        "  - int16 dapat menampung nilai dari -32768 hingga 32767.\n",
        "  - int32 dapat menampung nilai dari -2147483648 hingga 2147483647.\n",
        "Pengaruhnya pada pembuatan black image adalah jika operasi pada gambar menghasilkan nilai di luar rentang int16, akan terjadi overflow.\n",
        "\n",
        "  Misalnya, operasi penjumlahan pada pixel bernilai tinggi.\n",
        "\n",
        "  Dengan int32, rentang nilai yang lebih luas dapat mengakomodasi operasi tersebut dan mencegah overflow.\n",
        "3. `from google.colab.patches import cv2_imshow` digunakan untuk mengimpor fungsi `cv2_imshow` yang digunakan untuk menampilkan gambar di Google Colab.\n",
        "\n",
        "  Fungsi `cv2.imshow` dari OpenCV tidak berfungsi di Colab, sehingga perlu menggunakan `cv2_imshow`.\n",
        "\n",
        "4. `from skimage import io` digunakan untuk mengimpor modul `io` dari library `skimage` yang menyediakan fungsi untuk membaca dan menulis gambar.\n",
        "\n",
        "  `io.imread` dapat digunakan untuk membaca gambar dari berbagai format seperti JPG, PNG, TIFF, dll.\n"
      ],
      "metadata": {
        "id": "kjwBRSTRmA-3"
      }
    },
    {
      "cell_type": "markdown",
      "source": [
        "**E. Tugas**\n",
        "1. Dengan menggunakan figsize, perhatikan apakah ukuran image pixelnya juga\n",
        "berubah?\n",
        "2. Tampilkan image dalam channel Red-Blue dan Green-Blue saja!\n",
        "3. Tampilkan image baris ke 20-115, kolom 25-120!\n",
        "4. Tampilkan image baris ke 5-30, semua kolom, channel Red saja!\n",
        "5. Buat 5 kotak berbagai ukuran dan warna yang berbeda dalam satu image.\n",
        "disarankan menggunakan bilangan acak/random!\n",
        "6. Tampilkan image dengan posisi terbalik!\n",
        "Berdasarkan praktikum bagian 3 dan 4 kerjakan beberapa tugas berikut :\n",
        "7. Buat rectangle dan circle pada bagian wajah dari image foto anda saat\n",
        "beraktifitas (bukan pasfoto).\n",
        "8. Buat rectangle pada bagian sudut bawah kiri channel B pada color space RGB\n",
        "dari citra kitten/ lena/ mandrill/ male/ female/ couple/ sailboat/ peppers!\n",
        "9. Lengkapi tulisan nama file pada file citra dari soal no.8. gunakan font, ukuran\n",
        "font, dan warna font yang sesuai keinginan anda."
      ],
      "metadata": {
        "id": "RLjsQUO-mEbT"
      }
    },
    {
      "cell_type": "markdown",
      "source": [
        "**Jawab**\n",
        "\n",
        "1. Dengan menggunakan figsize, ukuran gambar dalam pixel tidak berubah.\n",
        "\n",
        "  figsize hanya mengubah ukuran figure atau canvas tempat gambar ditampilkan.\n",
        "\n",
        "  Ukuran gambar dalam pixel tetap sama, tetapi gambar mungkin terlihat lebih besar atau lebih kecil di canvas tergantung pada figsize.\n",
        "\n"
      ],
      "metadata": {
        "id": "CmOGf43RUfa-"
      }
    },
    {
      "cell_type": "code",
      "source": [
        "# Asumsikan 'img' adalah gambar yang sudah dibaca\n",
        "\n",
        "# Salin gambar untuk menghindari modifikasi pada gambar asli\n",
        "img_rb = img.copy()\n",
        "img_gb = img.copy()\n",
        "\n",
        "# Set channel Green menjadi 0 untuk Red-Blue\n",
        "img_rb[:,:,1] = 0\n",
        "\n",
        "# Set channel Red menjadi 0 untuk Green-Blue\n",
        "img_gb[:,:,0] = 0\n",
        "\n",
        "# Tampilkan gambar menggunakan matplotlib\n",
        "plt.figure(figsize=(10,5))\n",
        "\n",
        "plt.subplot(1,2,1)\n",
        "plt.imshow(img_rb)\n",
        "plt.title('Red-Blue')\n",
        "\n",
        "plt.subplot(1,2,2)\n",
        "plt.imshow(img_gb)\n",
        "plt.title('Green-Blue')\n",
        "\n",
        "plt.show()"
      ],
      "metadata": {
        "id": "_qIMDINdVVca"
      },
      "execution_count": null,
      "outputs": []
    },
    {
      "cell_type": "markdown",
      "source": [
        "**TUGAS**\n",
        "\n",
        "Tutup tiap bagian tertentu dari kartu identitas tersebut menggunakan fungsi yang telah\n",
        "Anda pelajari. Kreasikan terkait dengan warna dan ukuran dari bentuk-bentuknya.\n",
        "- Kelompok 1 tutup bagian nomor NIK dan nama.\n",
        "- Kelompok 2 tutup bagian TTL dan Jenis Kelamin.\n",
        "- Kelompok 3 tutup bagian Gol. Darah dan TTD.\n",
        "- Kelompok 4 tutup bagian Alamat dan Kecamatan.\n",
        "- Kelompok 5 tutup bagian Agama dan Status Kawin. Kelompok 6 tutup Pekerjaan dan\n",
        "kewarganegaraan.\n",
        "- Kelompok 7 tutup bagian berlaku hingga dan foto.\n",
        "- Kelompok 8 tutup bagian kabupaten dan tanggal dikeluarkan KTP yang ada dibagian\n",
        "bawah foto.\n",
        "- Kelompok 9 tutup bagian nama propinsi dan kabupaten di bagian paling atas KTP.\n",
        "- Kelompok 10 tutup bagian RT/RW dan Kel/desa. Tutup menggunakan 2 kotak warna\n",
        "yang berbeda."
      ],
      "metadata": {
        "id": "SXn-21mVQBQz"
      }
    }
  ]
}