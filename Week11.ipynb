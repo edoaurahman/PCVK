{
  "nbformat": 4,
  "nbformat_minor": 0,
  "metadata": {
    "colab": {
      "provenance": [],
      "authorship_tag": "ABX9TyOv+UalARLZIhuZWlUSQC4V",
      "include_colab_link": true
    },
    "kernelspec": {
      "name": "python3",
      "display_name": "Python 3"
    },
    "language_info": {
      "name": "python"
    }
  },
  "cells": [
    {
      "cell_type": "markdown",
      "metadata": {
        "id": "view-in-github",
        "colab_type": "text"
      },
      "source": [
        "<a href=\"https://colab.research.google.com/github/edoaurahman/PCVK/blob/main/Week11.ipynb\" target=\"_parent\"><img src=\"https://colab.research.google.com/assets/colab-badge.svg\" alt=\"Open In Colab\"/></a>"
      ]
    },
    {
      "cell_type": "markdown",
      "source": [
        "## Object Detection\n",
        "Metode yang digunakan:\n",
        "1. Template Matching\n",
        "2. Edge Detection\n",
        "3. Corner Detection\n",
        "4. Grid Detection\n",
        "5. Contour Detection"
      ],
      "metadata": {
        "id": "xpEWsUxdMEXf"
      }
    },
    {
      "cell_type": "code",
      "execution_count": 1,
      "metadata": {
        "id": "iGxzW9NTL21M"
      },
      "outputs": [],
      "source": [
        "# Import Library yang dibutuhkan\n",
        "import cv2 as cv\n",
        "import numpy as np\n",
        "import matplotlib.pyplot as plt"
      ]
    },
    {
      "cell_type": "code",
      "source": [
        "# Akses Drive\n",
        "from google.colab import drive\n",
        "\n",
        "drive.mount('/content/drive')"
      ],
      "metadata": {
        "id": "ZxEpMYZ3Me7_",
        "outputId": "a79b3140-98d2-4fdb-abae-eb29ae73a0e8",
        "colab": {
          "base_uri": "https://localhost:8080/"
        }
      },
      "execution_count": 2,
      "outputs": [
        {
          "output_type": "stream",
          "name": "stdout",
          "text": [
            "Mounted at /content/drive\n"
          ]
        }
      ]
    },
    {
      "cell_type": "markdown",
      "source": [
        "# Template Matching"
      ],
      "metadata": {
        "id": "jnmCT2A2MqWH"
      }
    },
    {
      "cell_type": "code",
      "source": [],
      "metadata": {
        "id": "Z71vhCWBNF4k"
      },
      "execution_count": null,
      "outputs": []
    },
    {
      "cell_type": "markdown",
      "source": [
        "Implementasikan konsep template matching tanpa menggunakan library OpenCV\n",
        "untuk multiple object, menggunakan gambar bahrain.jpg untuk citra masukan dan\n",
        "bahrain-template.jpg sebagai citra template, sehingga menghasilkan output sebagai\n",
        "berikut:"
      ],
      "metadata": {
        "id": "7_v40OWmNGlY"
      }
    },
    {
      "cell_type": "markdown",
      "source": [
        "Implementasikan metode Sobel Edge Detection, Canny Edge Detection, dan Laplacian\n",
        "Edge Detection pada OpenCV dengan menggunakan gambar car-park.jpg, sehingga\n",
        "menghasilkan luaran sebagai berikut:"
      ],
      "metadata": {
        "id": "v5A7iAK_NQQG"
      }
    },
    {
      "cell_type": "markdown",
      "source": [
        "Implementasikan metode Harris Corner Detection dan Shi-Tomasi Detection pada\n",
        "OpenCV dengan menggunakan gambar chess-board.jpg, sehingga menghasilkan\n",
        "luaran sebagai berikut:"
      ],
      "metadata": {
        "id": "958nF1FxNSjw"
      }
    },
    {
      "cell_type": "markdown",
      "source": [
        "Implementasikan metode Hough Transform pada OpenCV dengan menggunakan\n",
        "gambar sudoku.jpg. Tahapan proses grid detection sesuai yang terdapat pada ulasan\n",
        "teori, sehingga menghasilkan luaran sebagai berikut:"
      ],
      "metadata": {
        "id": "Qa5g0UuKNVAj"
      }
    },
    {
      "cell_type": "markdown",
      "source": [
        "Implementasikan fungsi findContours() pada OpenCV untuk contour detection dengan\n",
        "menggunakan gambar laptop.jpg, sehingga menghasilkan luaran sebagai berikut:"
      ],
      "metadata": {
        "id": "H_9U-yv0NV5o"
      }
    },
    {
      "cell_type": "markdown",
      "source": [
        "# E. Pengayaan Materi KTP"
      ],
      "metadata": {
        "id": "kx58BkqxNYUy"
      }
    },
    {
      "cell_type": "markdown",
      "source": [],
      "metadata": {
        "id": "QzOpJJ_0NfV9"
      }
    }
  ]
}